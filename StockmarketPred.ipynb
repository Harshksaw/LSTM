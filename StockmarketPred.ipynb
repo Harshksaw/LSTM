{
  "cells": [
    {
      "cell_type": "code",
      "execution_count": 1,
      "metadata": {
        "id": "BmZQaCL3I5EQ"
      },
      "outputs": [],
      "source": [
        "import numpy as np\n",
        "import pandas as pd\n",
        "\n",
        "\n",
        "import math\n",
        "from sklearn.metrics import mean_squared_error as mse\n",
        "from sklearn.preprocessing import MinMaxScaler\n",
        "\n",
        "import matplotlib.pyplot as plt\n"
      ]
    },
    {
      "cell_type": "code",
      "source": [
        "from statsmodels.tsa.seasonal import seasonal_decompose"
      ],
      "metadata": {
        "id": "25uS3monamM0"
      },
      "execution_count": 2,
      "outputs": []
    },
    {
      "cell_type": "code",
      "source": [],
      "metadata": {
        "id": "L98NM5ZLtxmT"
      },
      "execution_count": 2,
      "outputs": []
    },
    {
      "cell_type": "code",
      "source": [
        "from google.colab import drive\n",
        "drive.mount('/content/drive', force_remount = True)"
      ],
      "metadata": {
        "colab": {
          "base_uri": "https://localhost:8080/"
        },
        "id": "GaSaq0RkbaGr",
        "outputId": "09812397-489b-4622-be53-455042756561"
      },
      "execution_count": 3,
      "outputs": [
        {
          "output_type": "stream",
          "name": "stdout",
          "text": [
            "Mounted at /content/drive\n"
          ]
        }
      ]
    },
    {
      "cell_type": "markdown",
      "source": [
        "Taking data from covid 03-2020 to 03-2023\n"
      ],
      "metadata": {
        "id": "P0YtGGobvbdC"
      }
    },
    {
      "cell_type": "code",
      "source": [
        "data = pd.read_csv('/content/drive/MyDrive/TCS.NS.csv')\n",
        "data['Date'] = pd.to_datetime(data['Date'])\n",
        "\n",
        "start_date = '2020-03-30'\n",
        "end_date = '2023-03-20'\n",
        "\n",
        "filtered_data = data[(data['Date'] >= start_date) & (data['Date'] <= end_date)]\n",
        "df = filtered_data"
      ],
      "metadata": {
        "id": "KYNpcCSzpBLX"
      },
      "execution_count": 4,
      "outputs": []
    },
    {
      "cell_type": "markdown",
      "source": [
        "Our Data-set from march 2020 - march 2023\n"
      ],
      "metadata": {
        "id": "TVZWKdQpxJS4"
      }
    },
    {
      "cell_type": "code",
      "source": [
        "df.shape"
      ],
      "metadata": {
        "colab": {
          "base_uri": "https://localhost:8080/"
        },
        "id": "eypYJ6iG2cOW",
        "outputId": "476b627e-d51d-4b0f-c9a0-841baa811d21"
      },
      "execution_count": 5,
      "outputs": [
        {
          "output_type": "execute_result",
          "data": {
            "text/plain": [
              "(740, 7)"
            ]
          },
          "metadata": {},
          "execution_count": 5
        }
      ]
    },
    {
      "cell_type": "code",
      "source": [
        "# Set the 'Date' column as the index\n",
        "df.set_index('Date', inplace=True)\n"
      ],
      "metadata": {
        "id": "hhMD1u8LzC6L"
      },
      "execution_count": 6,
      "outputs": []
    },
    {
      "cell_type": "code",
      "source": [
        "df['Close'].plot(title='Closing Price of TCS Stock', xlabel='Date', ylabel='Price (Rs)')\n",
        "plt.show()"
      ],
      "metadata": {
        "colab": {
          "base_uri": "https://localhost:8080/",
          "height": 293
        },
        "id": "6ArXX3KDzCyz",
        "outputId": "76b42293-0cdb-4a18-b1d7-0505d61747c9"
      },
      "execution_count": 7,
      "outputs": [
        {
          "output_type": "display_data",
          "data": {
            "text/plain": [
              "<Figure size 432x288 with 1 Axes>"
            ],
            "image/png": "[encoded data removed]"
          },
          "metadata": {
            "needs_background": "light"
          }
        }
      ]
    },
    {
      "cell_type": "code",
      "source": [
        "df = df.reset_index()\n",
        "df.head()"
      ],
      "metadata": {
        "colab": {
          "base_uri": "https://localhost:8080/",
          "height": 206
        },
        "id": "UmafPB9-zD5j",
        "outputId": "33abd852-7785-4b87-8624-c3bdeaf7e576"
      },
      "execution_count": 8,
      "outputs": [
        {
          "output_type": "execute_result",
          "data": {
            "text/plain": [
              "        Date         Open         High          Low        Close    Adj Close  \\\n",
              "0 2020-03-30  1766.000000  1905.000000  1763.550049  1778.500000  1684.919922   \n",
              "1 2020-03-31  1837.400024  1855.000000  1780.000000  1826.099976  1730.015503   \n",
              "2 2020-04-01  1825.900024  1834.750000  1702.000000  1708.750000  1618.840088   \n",
              "3 2020-04-03  1740.000000  1740.000000  1650.000000  1654.199951  1567.160400   \n",
              "4 2020-04-07  1710.000000  1785.849976  1705.000000  1775.199951  1681.793457   \n",
              "\n",
              "    Volume  \n",
              "0  8513547  \n",
              "1  3927593  \n",
              "2  4941878  \n",
              "3  5735369  \n",
              "4  5427577  "
            ],
            "text/html": [
              "\n",
              "  <div id=\"df-f8bbc6d5-dfa1-4a59-85d0-5e96621c9e8f\">\n",
              "    <div class=\"colab-df-container\">\n",
              "      <div>\n",
              "<style scoped>\n",
              "    .dataframe tbody tr th:only-of-type {\n",
              "        vertical-align: middle;\n",
              "    }\n",
              "\n",
              "    .dataframe tbody tr th {\n",
              "        vertical-align: top;\n",
              "    }\n",
              "\n",
              "    .dataframe thead th {\n",
              "        text-align: right;\n",
              "    }\n",
              "</style>\n",
              "<table border=\"1\" class=\"dataframe\">\n",
              "  <thead>\n",
              "    <tr style=\"text-align: right;\">\n",
              "      <th></th>\n",
              "      <th>Date</th>\n",
              "      <th>Open</th>\n",
              "      <th>High</th>\n",
              "      <th>Low</th>\n",
              "      <th>Close</th>\n",
              "      <th>Adj Close</th>\n",
              "      <th>Volume</th>\n",
              "    </tr>\n",
              "  </thead>\n",
              "  <tbody>\n",
              "    <tr>\n",
              "      <th>0</th>\n",
              "      <td>2020-03-30</td>\n",
              "      <td>1766.000000</td>\n",
              "      <td>1905.000000</td>\n",
              "      <td>1763.550049</td>\n",
              "      <td>1778.500000</td>\n",
              "      <td>1684.919922</td>\n",
              "      <td>8513547</td>\n",
              "    </tr>\n",
              "    <tr>\n",
              "      <th>1</th>\n",
              "      <td>2020-03-31</td>\n",
              "      <td>1837.400024</td>\n",
              "      <td>1855.000000</td>\n",
              "      <td>1780.000000</td>\n",
              "      <td>1826.099976</td>\n",
              "      <td>1730.015503</td>\n",
              "      <td>3927593</td>\n",
              "    </tr>\n",
              "    <tr>\n",
              "      <th>2</th>\n",
              "      <td>2020-04-01</td>\n",
              "      <td>1825.900024</td>\n",
              "      <td>1834.750000</td>\n",
              "      <td>1702.000000</td>\n",
              "      <td>1708.750000</td>\n",
              "      <td>1618.840088</td>\n",
              "      <td>4941878</td>\n",
              "    </tr>\n",
              "    <tr>\n",
              "      <th>3</th>\n",
              "      <td>2020-04-03</td>\n",
              "      <td>1740.000000</td>\n",
              "      <td>1740.000000</td>\n",
              "      <td>1650.000000</td>\n",
              "      <td>1654.199951</td>\n",
              "      <td>1567.160400</td>\n",
              "      <td>5735369</td>\n",
              "    </tr>\n",
              "    <tr>\n",
              "      <th>4</th>\n",
              "      <td>2020-04-07</td>\n",
              "      <td>1710.000000</td>\n",
              "      <td>1785.849976</td>\n",
              "      <td>1705.000000</td>\n",
              "      <td>1775.199951</td>\n",
              "      <td>1681.793457</td>\n",
              "      <td>5427577</td>\n",
              "    </tr>\n",
              "  </tbody>\n",
              "</table>\n",
              "</div>\n",
              "      <button class=\"colab-df-convert\" onclick=\"convertToInteractive('df-f8bbc6d5-dfa1-4a59-85d0-5e96621c9e8f')\"\n",
              "              title=\"Convert this dataframe to an interactive table.\"\n",
              "              style=\"display:none;\">\n",
              "        \n",
              "  <svg xmlns=\"http://www.w3.org/2000/svg\" height=\"24px\"viewBox=\"0 0 24 24\"\n",
              "       width=\"24px\">\n",
              "    <path d=\"M0 0h24v24H0V0z\" fill=\"none\"/>\n",
              "    <path d=\"M18.56 5.44l.94 2.06.94-2.06 2.06-.94-2.06-.94-.94-2.06-.94 2.06-2.06.94zm-11 1L8.5 8.5l.94-2.06 2.06-.94-2.06-.94L8.5 2.5l-.94 2.06-2.06.94zm10 10l.94 2.06.94-2.06 2.06-.94-2.06-.94-.94-2.06-.94 2.06-2.06.94z\"/><path d=\"M17.41 7.96l-1.37-1.37c-.4-.4-.92-.59-1.43-.59-.52 0-1.04.2-1.43.59L10.3 9.45l-7.72 7.72c-.78.78-.78 2.05 0 2.83L4 21.41c.39.39.9.59 1.41.59.51 0 1.02-.2 1.41-.59l7.78-7.78 2.81-2.81c.8-.78.8-2.07 0-2.86zM5.41 20L4 18.59l7.72-7.72 1.47 1.35L5.41 20z\"/>\n",
              "  </svg>\n",
              "      </button>\n",
              "      \n",
              "  <style>\n",
              "    .colab-df-container {\n",
              "      display:flex;\n",
              "      flex-wrap:wrap;\n",
              "      gap: 12px;\n",
              "    }\n",
              "\n",
              "    .colab-df-convert {\n",
              "      background-color: #E8F0FE;\n",
              "      border: none;\n",
              "      border-radius: 50%;\n",
              "      cursor: pointer;\n",
              "      display: none;\n",
              "      fill: #1967D2;\n",
              "      height: 32px;\n",
              "      padding: 0 0 0 0;\n",
              "      width: 32px;\n",
              "    }\n",
              "\n",
              "    .colab-df-convert:hover {\n",
              "      background-color: #E2EBFA;\n",
              "      box-shadow: 0px 1px 2px rgba(60, 64, 67, 0.3), 0px 1px 3px 1px rgba(60, 64, 67, 0.15);\n",
              "      fill: #174EA6;\n",
              "    }\n",
              "\n",
              "    [theme=dark] .colab-df-convert {\n",
              "      background-color: #3B4455;\n",
              "      fill: #D2E3FC;\n",
              "    }\n",
              "\n",
              "    [theme=dark] .colab-df-convert:hover {\n",
              "      background-color: #434B5C;\n",
              "      box-shadow: 0px 1px 3px 1px rgba(0, 0, 0, 0.15);\n",
              "      filter: drop-shadow(0px 1px 2px rgba(0, 0, 0, 0.3));\n",
              "      fill: #FFFFFF;\n",
              "    }\n",
              "  </style>\n",
              "\n",
              "      <script>\n",
              "        const buttonEl =\n",
              "          document.querySelector('#df-f8bbc6d5-dfa1-4a59-85d0-5e96621c9e8f button.colab-df-convert');\n",
              "        buttonEl.style.display =\n",
              "          google.colab.kernel.accessAllowed ? 'block' : 'none';\n",
              "\n",
              "        async function convertToInteractive(key) {\n",
              "          const element = document.querySelector('#df-f8bbc6d5-dfa1-4a59-85d0-5e96621c9e8f');\n",
              "          const dataTable =\n",
              "            await google.colab.kernel.invokeFunction('convertToInteractive',\n",
              "                                                     [key], {});\n",
              "          if (!dataTable) return;\n",
              "\n",
              "          const docLinkHtml = 'Like what you see? Visit the ' +\n",
              "            '<a target=\"_blank\" href=https://colab.research.google.com/notebooks/data_table.ipynb>data table notebook</a>'\n",
              "            + ' to learn more about interactive tables.';\n",
              "          element.innerHTML = '';\n",
              "          dataTable['output_type'] = 'display_data';\n",
              "          await google.colab.output.renderOutput(dataTable, element);\n",
              "          const docLink = document.createElement('div');\n",
              "          docLink.innerHTML = docLinkHtml;\n",
              "          element.appendChild(docLink);\n",
              "        }\n",
              "      </script>\n",
              "    </div>\n",
              "  </div>\n",
              "  "
            ]
          },
          "metadata": {},
          "execution_count": 8
        }
      ]
    },
    {
      "cell_type": "markdown",
      "source": [
        "Seasonal decomposition is a technique used to break down a time series into its trend, seasonal, and residual \n",
        "\n",
        "->  If the magnitude of the seasonal component changes with time, then the series is multiplicative.\n",
        "so we have taken multiplicative here -> Multiplicative: \n",
        "x\n",
        "t\n",
        " = Trend * Seasonal * Random"
      ],
      "metadata": {
        "id": "6_vUOheCfzMQ"
      }
    },
    {
      "cell_type": "code",
      "source": [
        "df.index = df['Date']\n",
        "results = seasonal_decompose(df['Close'],model = 'multiplicative' , period = 12)\n",
        "results.plot();"
      ],
      "metadata": {
        "colab": {
          "base_uri": "https://localhost:8080/",
          "height": 297
        },
        "id": "bDaxiAhbanbq",
        "outputId": "0e5bffa8-c461-45db-9251-c44c6cd43e0e"
      },
      "execution_count": 9,
      "outputs": [
        {
          "output_type": "display_data",
          "data": {
            "text/plain": [
              "<Figure size 432x288 with 4 Axes>"
            ],
            "image/png": "[encoded data removed]"
          },
          "metadata": {
            "needs_background": "light"
          }
        }
      ]
    },
    {
      "cell_type": "code",
      "source": [
        "# df =df.drop(['Date' ,'Adj Close'], axis = 1)"
      ],
      "metadata": {
        "id": "Wt6erLXNzD2k"
      },
      "execution_count": 10,
      "outputs": []
    },
    {
      "cell_type": "code",
      "source": [
        "plt.plot(df.Close)"
      ],
      "metadata": {
        "colab": {
          "base_uri": "https://localhost:8080/",
          "height": 282
        },
        "id": "ftCi5FWpzD0G",
        "outputId": "155d30ea-e0d6-4459-e34c-8989a2c9130e"
      },
      "execution_count": 11,
      "outputs": [
        {
          "output_type": "execute_result",
          "data": {
            "text/plain": [
              "[<matplotlib.lines.Line2D at 0x7f31ef4c0b20>]"
            ]
          },
          "metadata": {},
          "execution_count": 11
        },
        {
          "output_type": "display_data",
          "data": {
            "text/plain": [
              "<Figure size 432x288 with 1 Axes>"
            ],
            "image/png": "[encoded data removed]"
          },
          "metadata": {
            "needs_background": "light"
          }
        }
      ]
    },
    {
      "cell_type": "markdown",
      "source": [
        "Making moving average \n",
        "ma100 -> moving average 100\n",
        "ma50 -> moving average 50\n"
      ],
      "metadata": {
        "id": "kWW6T6KnTZ0m"
      }
    },
    {
      "cell_type": "code",
      "source": [
        "ma100 = df.Close.rolling(100).mean()\n",
        "ma50 = df.Close.rolling(50).mean()\n",
        "ma200 = df.Close.rolling(200).mean()\n",
        "ma100"
      ],
      "metadata": {
        "colab": {
          "base_uri": "https://localhost:8080/"
        },
        "id": "GaeG2dHjzDxT",
        "outputId": "701a3e5a-161c-443e-905c-0784555e3aad"
      },
      "execution_count": 12,
      "outputs": [
        {
          "output_type": "execute_result",
          "data": {
            "text/plain": [
              "Date\n",
              "2020-03-30            NaN\n",
              "2020-03-31            NaN\n",
              "2020-04-01            NaN\n",
              "2020-04-03            NaN\n",
              "2020-04-07            NaN\n",
              "                 ...     \n",
              "2023-03-14    3339.783501\n",
              "2023-03-15    3340.199500\n",
              "2023-03-16    3340.675500\n",
              "2023-03-17    3340.851501\n",
              "2023-03-20    3340.663501\n",
              "Name: Close, Length: 740, dtype: float64"
            ]
          },
          "metadata": {},
          "execution_count": 12
        }
      ]
    },
    {
      "cell_type": "markdown",
      "source": [
        "Observation -> When the moving average of 50 periods crosses above the moving average of 100 periods, it is often seen as a bullish signal in technical analysis. Conversely, when the 50-period moving average crosses below the 100-period moving average, it is often seen as a bearish signal.\n",
        "\n",
        "-> Looking at bigger picture\n",
        "When a long-term moving average, such as the 200-day moving average, crosses above or below a short-term moving average, such as the 100-day moving average, it is known as a \"moving average crossover.\" This is a common technical analysis signal used by traders and investors to identify potential changes in trend\n"
      ],
      "metadata": {
        "id": "HN0MjTk4WgCC"
      }
    },
    {
      "cell_type": "code",
      "source": [
        "plt.figure(figsize = (12,6))\n",
        "plt.plot(ma100 , color = 'r' ,label = \"100 ma\")\n",
        "plt.plot(ma50 , color = 'g', label = \"50 ma\")\n",
        "plt.plot(ma200 , color = 'y' , label = \"200 ma\")\n",
        "plt.xlabel(\"Duration -> 03/2020 , 03/2023\")\n",
        "plt.ylabel(\"Price (Rs)\")\n",
        "plt.legend()\n",
        "plt.plot(df.Close)"
      ],
      "metadata": {
        "colab": {
          "base_uri": "https://localhost:8080/",
          "height": 405
        },
        "id": "Dn_MBX8ezDuT",
        "outputId": "eaf3c8b5-a8f5-44ae-d6ab-bd716a147403"
      },
      "execution_count": 13,
      "outputs": [
        {
          "output_type": "execute_result",
          "data": {
            "text/plain": [
              "[<matplotlib.lines.Line2D at 0x7f31ed1130d0>]"
            ]
          },
          "metadata": {},
          "execution_count": 13
        },
        {
          "output_type": "display_data",
          "data": {
            "text/plain": [
              "<Figure size 864x432 with 1 Axes>"
            ],
            "image/png": "[encoded data removed]"
          },
          "metadata": {
            "needs_background": "light"
          }
        }
      ]
    },
    {
      "cell_type": "code",
      "source": [
        "df.shape"
      ],
      "metadata": {
        "colab": {
          "base_uri": "https://localhost:8080/"
        },
        "id": "gRcYX7_NzDr2",
        "outputId": "25e027ce-06a3-4a73-ecba-deabbab43485"
      },
      "execution_count": 14,
      "outputs": [
        {
          "output_type": "execute_result",
          "data": {
            "text/plain": [
              "(740, 7)"
            ]
          },
          "metadata": {},
          "execution_count": 14
        }
      ]
    },
    {
      "cell_type": "markdown",
      "source": [
        "Spliting data into train and test\n",
        "-> 70 % for traing and 30% for testng\n"
      ],
      "metadata": {
        "id": "1Dgx5fF0gz8K"
      }
    },
    {
      "cell_type": "code",
      "source": [
        "data_training = pd.DataFrame(df['Close'][0:int(len(df) * 0.70)])  #taking first 70% of data\n",
        "data_testing = pd.DataFrame(df['Close'] [int(len(df)* 0.70) : int(len(df))] )\n",
        "print(data_training.shape)\n",
        "print(data_testing.shape)"
      ],
      "metadata": {
        "colab": {
          "base_uri": "https://localhost:8080/"
        },
        "id": "eFl85kb0gzX7",
        "outputId": "ec294209-b4f9-4a21-9766-7c1aaee0ca67"
      },
      "execution_count": 78,
      "outputs": [
        {
          "output_type": "stream",
          "name": "stdout",
          "text": [
            "(518, 1)\n",
            "(222, 1)\n"
          ]
        }
      ]
    },
    {
      "cell_type": "markdown",
      "source": [
        "Scaled down the data using minmaxscaler and then training the data\n"
      ],
      "metadata": {
        "id": "PJM2UArVjrBL"
      }
    },
    {
      "cell_type": "code",
      "source": [
        "scaler = MinMaxScaler(feature_range = (0,1))"
      ],
      "metadata": {
        "id": "A3LW9MaZzDpZ"
      },
      "execution_count": 79,
      "outputs": []
    },
    {
      "cell_type": "markdown",
      "source": [
        "Transforming the data into scaler object between 0 -1 .\n",
        "ALl the values of data_training will be scaled down between 0 and 1\n"
      ],
      "metadata": {
        "id": "-iGR5RESp7PE"
      }
    },
    {
      "cell_type": "code",
      "source": [
        "data_training_array = scaler.fit_transform(data_training)\n",
        "data_training_array[1:100:10]"
      ],
      "metadata": {
        "colab": {
          "base_uri": "https://localhost:8080/"
        },
        "id": "G1V9rm5czDm1",
        "outputId": "8eda0c5c-ec39-4fc3-b1df-e9576bc27674"
      },
      "execution_count": 17,
      "outputs": [
        {
          "output_type": "execute_result",
          "data": {
            "text/plain": [
              "array([[0.07268654],\n",
              "       [0.06953639],\n",
              "       [0.11778264],\n",
              "       [0.12450584],\n",
              "       [0.16573293],\n",
              "       [0.16643062],\n",
              "       [0.18514138],\n",
              "       [0.24512145],\n",
              "       [0.2629443 ],\n",
              "       [0.25503717]])"
            ]
          },
          "metadata": {},
          "execution_count": 17
        }
      ]
    },
    {
      "cell_type": "code",
      "source": [
        "data_training_array.shape"
      ],
      "metadata": {
        "colab": {
          "base_uri": "https://localhost:8080/"
        },
        "id": "8JXF_x4FmIlV",
        "outputId": "ed88b2bd-07af-420f-8b4d-4c04988100a7"
      },
      "execution_count": 80,
      "outputs": [
        {
          "output_type": "execute_result",
          "data": {
            "text/plain": [
              "(518, 1)"
            ]
          },
          "metadata": {},
          "execution_count": 80
        }
      ]
    },
    {
      "cell_type": "markdown",
      "source": [
        "TIme series analysis analogy .\n",
        "Closing price of day will be dependent on previous days.\n",
        "\n",
        "for previuous days values -> 100\n",
        "so values of 101 th day will be dependent on previous 100 days.\n",
        "\n"
      ],
      "metadata": {
        "id": "thKUNfOAG4fr"
      }
    },
    {
      "cell_type": "code",
      "source": [
        "#feature selection\n",
        "x_train = []\n",
        "y_train = []\n",
        "\n",
        "for i in range(100,data_training_array.shape[0]):\n",
        "  x_train.append(data_training_array[i -100 : i]) \n",
        "  # these 100 days value will be x train\n",
        "  y_train.append(data_training_array[i , 0])\n",
        "  # 101th day value willbecome y  train\n",
        "\n",
        "\n",
        "# converting x train and y train into numpy array\n",
        "x_train ,y_train = np.array(x_train), np.array(y_train)\n"
      ],
      "metadata": {
        "id": "AEPMeFowaP-Q"
      },
      "execution_count": 150,
      "outputs": []
    },
    {
      "cell_type": "code",
      "source": [
        "# data_testing.shape\n",
        "data_testing.head()"
      ],
      "metadata": {
        "colab": {
          "base_uri": "https://localhost:8080/",
          "height": 237
        },
        "id": "1NBo1rVjQUES",
        "outputId": "42ed2a01-38d0-4cda-e433-0a546ac90933"
      },
      "execution_count": 108,
      "outputs": [
        {
          "output_type": "execute_result",
          "data": {
            "text/plain": [
              "                  Close\n",
              "Date                   \n",
              "2022-05-02  3542.399902\n",
              "2022-05-04  3479.750000\n",
              "2022-05-05  3513.399902\n",
              "2022-05-06  3432.600098\n",
              "2022-05-09  3445.100098"
            ],
            "text/html": [
              "\n",
              "  <div id=\"df-c878d5fe-b555-494e-96f0-46f5f15f873e\">\n",
              "    <div class=\"colab-df-container\">\n",
              "      <div>\n",
              "<style scoped>\n",
              "    .dataframe tbody tr th:only-of-type {\n",
              "        vertical-align: middle;\n",
              "    }\n",
              "\n",
              "    .dataframe tbody tr th {\n",
              "        vertical-align: top;\n",
              "    }\n",
              "\n",
              "    .dataframe thead th {\n",
              "        text-align: right;\n",
              "    }\n",
              "</style>\n",
              "<table border=\"1\" class=\"dataframe\">\n",
              "  <thead>\n",
              "    <tr style=\"text-align: right;\">\n",
              "      <th></th>\n",
              "      <th>Close</th>\n",
              "    </tr>\n",
              "    <tr>\n",
              "      <th>Date</th>\n",
              "      <th></th>\n",
              "    </tr>\n",
              "  </thead>\n",
              "  <tbody>\n",
              "    <tr>\n",
              "      <th>2022-05-02</th>\n",
              "      <td>3542.399902</td>\n",
              "    </tr>\n",
              "    <tr>\n",
              "      <th>2022-05-04</th>\n",
              "      <td>3479.750000</td>\n",
              "    </tr>\n",
              "    <tr>\n",
              "      <th>2022-05-05</th>\n",
              "      <td>3513.399902</td>\n",
              "    </tr>\n",
              "    <tr>\n",
              "      <th>2022-05-06</th>\n",
              "      <td>3432.600098</td>\n",
              "    </tr>\n",
              "    <tr>\n",
              "      <th>2022-05-09</th>\n",
              "      <td>3445.100098</td>\n",
              "    </tr>\n",
              "  </tbody>\n",
              "</table>\n",
              "</div>\n",
              "      <button class=\"colab-df-convert\" onclick=\"convertToInteractive('df-c878d5fe-b555-494e-96f0-46f5f15f873e')\"\n",
              "              title=\"Convert this dataframe to an interactive table.\"\n",
              "              style=\"display:none;\">\n",
              "        \n",
              "  <svg xmlns=\"http://www.w3.org/2000/svg\" height=\"24px\"viewBox=\"0 0 24 24\"\n",
              "       width=\"24px\">\n",
              "    <path d=\"M0 0h24v24H0V0z\" fill=\"none\"/>\n",
              "    <path d=\"M18.56 5.44l.94 2.06.94-2.06 2.06-.94-2.06-.94-.94-2.06-.94 2.06-2.06.94zm-11 1L8.5 8.5l.94-2.06 2.06-.94-2.06-.94L8.5 2.5l-.94 2.06-2.06.94zm10 10l.94 2.06.94-2.06 2.06-.94-2.06-.94-.94-2.06-.94 2.06-2.06.94z\"/><path d=\"M17.41 7.96l-1.37-1.37c-.4-.4-.92-.59-1.43-.59-.52 0-1.04.2-1.43.59L10.3 9.45l-7.72 7.72c-.78.78-.78 2.05 0 2.83L4 21.41c.39.39.9.59 1.41.59.51 0 1.02-.2 1.41-.59l7.78-7.78 2.81-2.81c.8-.78.8-2.07 0-2.86zM5.41 20L4 18.59l7.72-7.72 1.47 1.35L5.41 20z\"/>\n",
              "  </svg>\n",
              "      </button>\n",
              "      \n",
              "  <style>\n",
              "    .colab-df-container {\n",
              "      display:flex;\n",
              "      flex-wrap:wrap;\n",
              "      gap: 12px;\n",
              "    }\n",
              "\n",
              "    .colab-df-convert {\n",
              "      background-color: #E8F0FE;\n",
              "      border: none;\n",
              "      border-radius: 50%;\n",
              "      cursor: pointer;\n",
              "      display: none;\n",
              "      fill: #1967D2;\n",
              "      height: 32px;\n",
              "      padding: 0 0 0 0;\n",
              "      width: 32px;\n",
              "    }\n",
              "\n",
              "    .colab-df-convert:hover {\n",
              "      background-color: #E2EBFA;\n",
              "      box-shadow: 0px 1px 2px rgba(60, 64, 67, 0.3), 0px 1px 3px 1px rgba(60, 64, 67, 0.15);\n",
              "      fill: #174EA6;\n",
              "    }\n",
              "\n",
              "    [theme=dark] .colab-df-convert {\n",
              "      background-color: #3B4455;\n",
              "      fill: #D2E3FC;\n",
              "    }\n",
              "\n",
              "    [theme=dark] .colab-df-convert:hover {\n",
              "      background-color: #434B5C;\n",
              "      box-shadow: 0px 1px 3px 1px rgba(0, 0, 0, 0.15);\n",
              "      filter: drop-shadow(0px 1px 2px rgba(0, 0, 0, 0.3));\n",
              "      fill: #FFFFFF;\n",
              "    }\n",
              "  </style>\n",
              "\n",
              "      <script>\n",
              "        const buttonEl =\n",
              "          document.querySelector('#df-c878d5fe-b555-494e-96f0-46f5f15f873e button.colab-df-convert');\n",
              "        buttonEl.style.display =\n",
              "          google.colab.kernel.accessAllowed ? 'block' : 'none';\n",
              "\n",
              "        async function convertToInteractive(key) {\n",
              "          const element = document.querySelector('#df-c878d5fe-b555-494e-96f0-46f5f15f873e');\n",
              "          const dataTable =\n",
              "            await google.colab.kernel.invokeFunction('convertToInteractive',\n",
              "                                                     [key], {});\n",
              "          if (!dataTable) return;\n",
              "\n",
              "          const docLinkHtml = 'Like what you see? Visit the ' +\n",
              "            '<a target=\"_blank\" href=https://colab.research.google.com/notebooks/data_table.ipynb>data table notebook</a>'\n",
              "            + ' to learn more about interactive tables.';\n",
              "          element.innerHTML = '';\n",
              "          dataTable['output_type'] = 'display_data';\n",
              "          await google.colab.output.renderOutput(dataTable, element);\n",
              "          const docLink = document.createElement('div');\n",
              "          docLink.innerHTML = docLinkHtml;\n",
              "          element.appendChild(docLink);\n",
              "        }\n",
              "      </script>\n",
              "    </div>\n",
              "  </div>\n",
              "  "
            ]
          },
          "metadata": {},
          "execution_count": 108
        }
      ]
    },
    {
      "cell_type": "markdown",
      "source": [
        " training data for LSTM model input which expects a 3D array of shape (samples , timesteps , *features*)"
      ],
      "metadata": {
        "id": "A5gKiaCkgGnt"
      }
    },
    {
      "cell_type": "code",
      "source": [
        "# x_train = np.reshape(x_train, (x_train.shape[0], x_train.shape[1], 1))\n",
        "x_train.shape"
      ],
      "metadata": {
        "colab": {
          "base_uri": "https://localhost:8080/"
        },
        "id": "KXN1B8Uh0XKZ",
        "outputId": "c245b3a8-b5be-43e3-884c-52f0ce0709f5"
      },
      "execution_count": 30,
      "outputs": [
        {
          "output_type": "execute_result",
          "data": {
            "text/plain": [
              "(418, 100, 1)"
            ]
          },
          "metadata": {},
          "execution_count": 30
        }
      ]
    },
    {
      "cell_type": "code",
      "source": [
        "final_df = past100_days.append(data_testing , ignore_index= True)\n",
        "final_df.head()"
      ],
      "metadata": {
        "colab": {
          "base_uri": "https://localhost:8080/",
          "height": 241
        },
        "id": "EXZdkOrISX9q",
        "outputId": "41278239-06ec-4dab-e6d4-97d78f1be5ff"
      },
      "execution_count": 109,
      "outputs": [
        {
          "output_type": "stream",
          "name": "stderr",
          "text": [
            "<ipython-input-109-6a3e9e41da20>:1: FutureWarning: The frame.append method is deprecated and will be removed from pandas in a future version. Use pandas.concat instead.\n",
            "  final_df = past100_days.append(data_testing , ignore_index= True)\n"
          ]
        },
        {
          "output_type": "execute_result",
          "data": {
            "text/plain": [
              "         Close\n",
              "0  3536.399902\n",
              "1  3584.500000\n",
              "2  3626.899902\n",
              "3  3601.750000\n",
              "4  3636.800049"
            ],
            "text/html": [
              "\n",
              "  <div id=\"df-5690b8a5-85a6-4f5d-b10b-081d9a89f719\">\n",
              "    <div class=\"colab-df-container\">\n",
              "      <div>\n",
              "<style scoped>\n",
              "    .dataframe tbody tr th:only-of-type {\n",
              "        vertical-align: middle;\n",
              "    }\n",
              "\n",
              "    .dataframe tbody tr th {\n",
              "        vertical-align: top;\n",
              "    }\n",
              "\n",
              "    .dataframe thead th {\n",
              "        text-align: right;\n",
              "    }\n",
              "</style>\n",
              "<table border=\"1\" class=\"dataframe\">\n",
              "  <thead>\n",
              "    <tr style=\"text-align: right;\">\n",
              "      <th></th>\n",
              "      <th>Close</th>\n",
              "    </tr>\n",
              "  </thead>\n",
              "  <tbody>\n",
              "    <tr>\n",
              "      <th>0</th>\n",
              "      <td>3536.399902</td>\n",
              "    </tr>\n",
              "    <tr>\n",
              "      <th>1</th>\n",
              "      <td>3584.500000</td>\n",
              "    </tr>\n",
              "    <tr>\n",
              "      <th>2</th>\n",
              "      <td>3626.899902</td>\n",
              "    </tr>\n",
              "    <tr>\n",
              "      <th>3</th>\n",
              "      <td>3601.750000</td>\n",
              "    </tr>\n",
              "    <tr>\n",
              "      <th>4</th>\n",
              "      <td>3636.800049</td>\n",
              "    </tr>\n",
              "  </tbody>\n",
              "</table>\n",
              "</div>\n",
              "      <button class=\"colab-df-convert\" onclick=\"convertToInteractive('df-5690b8a5-85a6-4f5d-b10b-081d9a89f719')\"\n",
              "              title=\"Convert this dataframe to an interactive table.\"\n",
              "              style=\"display:none;\">\n",
              "        \n",
              "  <svg xmlns=\"http://www.w3.org/2000/svg\" height=\"24px\"viewBox=\"0 0 24 24\"\n",
              "       width=\"24px\">\n",
              "    <path d=\"M0 0h24v24H0V0z\" fill=\"none\"/>\n",
              "    <path d=\"M18.56 5.44l.94 2.06.94-2.06 2.06-.94-2.06-.94-.94-2.06-.94 2.06-2.06.94zm-11 1L8.5 8.5l.94-2.06 2.06-.94-2.06-.94L8.5 2.5l-.94 2.06-2.06.94zm10 10l.94 2.06.94-2.06 2.06-.94-2.06-.94-.94-2.06-.94 2.06-2.06.94z\"/><path d=\"M17.41 7.96l-1.37-1.37c-.4-.4-.92-.59-1.43-.59-.52 0-1.04.2-1.43.59L10.3 9.45l-7.72 7.72c-.78.78-.78 2.05 0 2.83L4 21.41c.39.39.9.59 1.41.59.51 0 1.02-.2 1.41-.59l7.78-7.78 2.81-2.81c.8-.78.8-2.07 0-2.86zM5.41 20L4 18.59l7.72-7.72 1.47 1.35L5.41 20z\"/>\n",
              "  </svg>\n",
              "      </button>\n",
              "      \n",
              "  <style>\n",
              "    .colab-df-container {\n",
              "      display:flex;\n",
              "      flex-wrap:wrap;\n",
              "      gap: 12px;\n",
              "    }\n",
              "\n",
              "    .colab-df-convert {\n",
              "      background-color: #E8F0FE;\n",
              "      border: none;\n",
              "      border-radius: 50%;\n",
              "      cursor: pointer;\n",
              "      display: none;\n",
              "      fill: #1967D2;\n",
              "      height: 32px;\n",
              "      padding: 0 0 0 0;\n",
              "      width: 32px;\n",
              "    }\n",
              "\n",
              "    .colab-df-convert:hover {\n",
              "      background-color: #E2EBFA;\n",
              "      box-shadow: 0px 1px 2px rgba(60, 64, 67, 0.3), 0px 1px 3px 1px rgba(60, 64, 67, 0.15);\n",
              "      fill: #174EA6;\n",
              "    }\n",
              "\n",
              "    [theme=dark] .colab-df-convert {\n",
              "      background-color: #3B4455;\n",
              "      fill: #D2E3FC;\n",
              "    }\n",
              "\n",
              "    [theme=dark] .colab-df-convert:hover {\n",
              "      background-color: #434B5C;\n",
              "      box-shadow: 0px 1px 3px 1px rgba(0, 0, 0, 0.15);\n",
              "      filter: drop-shadow(0px 1px 2px rgba(0, 0, 0, 0.3));\n",
              "      fill: #FFFFFF;\n",
              "    }\n",
              "  </style>\n",
              "\n",
              "      <script>\n",
              "        const buttonEl =\n",
              "          document.querySelector('#df-5690b8a5-85a6-4f5d-b10b-081d9a89f719 button.colab-df-convert');\n",
              "        buttonEl.style.display =\n",
              "          google.colab.kernel.accessAllowed ? 'block' : 'none';\n",
              "\n",
              "        async function convertToInteractive(key) {\n",
              "          const element = document.querySelector('#df-5690b8a5-85a6-4f5d-b10b-081d9a89f719');\n",
              "          const dataTable =\n",
              "            await google.colab.kernel.invokeFunction('convertToInteractive',\n",
              "                                                     [key], {});\n",
              "          if (!dataTable) return;\n",
              "\n",
              "          const docLinkHtml = 'Like what you see? Visit the ' +\n",
              "            '<a target=\"_blank\" href=https://colab.research.google.com/notebooks/data_table.ipynb>data table notebook</a>'\n",
              "            + ' to learn more about interactive tables.';\n",
              "          element.innerHTML = '';\n",
              "          dataTable['output_type'] = 'display_data';\n",
              "          await google.colab.output.renderOutput(dataTable, element);\n",
              "          const docLink = document.createElement('div');\n",
              "          docLink.innerHTML = docLinkHtml;\n",
              "          element.appendChild(docLink);\n",
              "        }\n",
              "      </script>\n",
              "    </div>\n",
              "  </div>\n",
              "  "
            ]
          },
          "metadata": {},
          "execution_count": 109
        }
      ]
    },
    {
      "cell_type": "code",
      "source": [
        "input_data = scaler.fit_transform(final_df )\n",
        "input_data"
      ],
      "metadata": {
        "id": "JEIP-ogf12tv"
      },
      "execution_count": null,
      "outputs": []
    },
    {
      "cell_type": "code",
      "source": [
        "past100_days = data_training.tail(100)\n",
        "past100_days.shape"
      ],
      "metadata": {
        "colab": {
          "base_uri": "https://localhost:8080/"
        },
        "id": "zwgU1--WRflU",
        "outputId": "12f9cfef-1926-47ed-95f0-fbf4316cb33f"
      },
      "execution_count": 111,
      "outputs": [
        {
          "output_type": "execute_result",
          "data": {
            "text/plain": [
              "(100, 1)"
            ]
          },
          "metadata": {},
          "execution_count": 111
        }
      ]
    },
    {
      "cell_type": "code",
      "source": [
        "x_test = []\n",
        "y_test = []\n",
        "\n",
        "for i in range(100 , input_data.shape[0]):  #input_data.shape[0] -> 322\n",
        "   x_test.append(input_data[i-100 : i])\n",
        "   y_test.append(input_data[i, 0])\n",
        "\n"
      ],
      "metadata": {
        "id": "uD7Vb9qDUXzQ"
      },
      "execution_count": 112,
      "outputs": []
    },
    {
      "cell_type": "code",
      "source": [
        "\n",
        "x_test , y_test = np.array(x_test), np.array(y_test)\n",
        "print(x_test.shape)\n",
        "\n",
        "print(y_test.shape)\n"
      ],
      "metadata": {
        "colab": {
          "base_uri": "https://localhost:8080/"
        },
        "id": "NEv-WvCUUXwL",
        "outputId": "26724683-6da8-47b9-d32d-4c5a90ad0a5a"
      },
      "execution_count": 113,
      "outputs": [
        {
          "output_type": "stream",
          "name": "stdout",
          "text": [
            "(222, 100, 1)\n",
            "(222,)\n"
          ]
        }
      ]
    },
    {
      "cell_type": "markdown",
      "source": [
        "ML MODEL->"
      ],
      "metadata": {
        "id": "oAqcbXVa1KOe"
      }
    },
    {
      "cell_type": "code",
      "source": [
        "from keras.layers import Dense , Dropout , LSTM\n",
        "from keras.models import Sequential"
      ],
      "metadata": {
        "id": "mMq2kwtVn6-t"
      },
      "execution_count": 114,
      "outputs": []
    },
    {
      "cell_type": "markdown",
      "source": [
        "Building   of LSTM network , followed by a dropout layer  and a Dense layer ,\n",
        "compiled using adam optimizer and mean squared erro as loss function \n",
        "\n",
        "\n",
        "\n",
        "*   20 % of layer will be droped out\n",
        "*   We add the Dense layer that specifies an output of one unit\n",
        "\n"
      ],
      "metadata": {
        "id": "yns6ep6h1MUu"
      }
    },
    {
      "cell_type": "code",
      "source": [
        "model = Sequential()\n",
        "model.add(LSTM(units = 100, return_sequences = True, input_shape =(x_train.shape[1],1)))\n",
        "model.add(Dropout(0.2))       #-> prevent overfitting\n",
        "\n",
        "model.add(LSTM(units= 100, return_sequences = True ))\n",
        "model.add(Dropout(0.2))\n",
        "\n",
        "model.add(LSTM(units= 100, return_sequences = True ))\n",
        "model.add(Dropout(0.2))\n",
        "\n",
        "model.add(LSTM(units= 100, return_sequences = False ))\n",
        "model.add(Dropout(0.2))\n",
        "\n",
        "model.add(Dense(units = 1))\n",
        "\n"
      ],
      "metadata": {
        "id": "OwfyKzukaP6h"
      },
      "execution_count": 145,
      "outputs": []
    },
    {
      "cell_type": "markdown",
      "source": [],
      "metadata": {
        "id": "nFVC2xd0lC_C"
      }
    },
    {
      "cell_type": "code",
      "source": [
        "model.compile(optimizer = 'adam' , loss = \"mean_squared_error\")"
      ],
      "metadata": {
        "id": "apwK_3faaP3M"
      },
      "execution_count": 146,
      "outputs": []
    },
    {
      "cell_type": "code",
      "source": [
        "model.layers"
      ],
      "metadata": {
        "id": "k3nQmzm0_2qD"
      },
      "execution_count": null,
      "outputs": []
    },
    {
      "cell_type": "code",
      "source": [
        "model.summary()"
      ],
      "metadata": {
        "id": "Ndrz76lK_2gu"
      },
      "execution_count": null,
      "outputs": []
    },
    {
      "cell_type": "markdown",
      "source": [
        "we fit the model to run for 100 epochs  with a batch size of 32."
      ],
      "metadata": {
        "id": "K1kg0Wapnv8Z"
      }
    },
    {
      "cell_type": "code",
      "source": [],
      "metadata": {
        "id": "_O0AdjFTpbd3"
      },
      "execution_count": null,
      "outputs": []
    },
    {
      "cell_type": "code",
      "source": [
        "model.fit(x_train, y_train, validation_data =(x_test , y_test), epochs = 100, batch_size= 64 ,verbose = 1)"
      ],
      "metadata": {
        "id": "lJSaSWjBaPz2",
        "colab": {
          "base_uri": "https://localhost:8080/"
        },
        "outputId": "38d92f41-24ca-499a-b1bd-887020618a18"
      },
      "execution_count": 149,
      "outputs": [
        {
          "output_type": "stream",
          "name": "stdout",
          "text": [
            "Epoch 1/100\n",
            "7/7 [==============================] - 74s 1s/step - loss: 0.1613 - val_loss: 114389958656.0000\n",
            "Epoch 2/100\n",
            "7/7 [==============================] - 7s 1s/step - loss: 0.0192 - val_loss: 114389876736.0000\n",
            "Epoch 3/100\n",
            "7/7 [==============================] - 6s 817ms/step - loss: 0.0108 - val_loss: 114389860352.0000\n",
            "Epoch 4/100\n",
            "7/7 [==============================] - 7s 1s/step - loss: 0.0101 - val_loss: 114389909504.0000\n",
            "Epoch 5/100\n",
            "7/7 [==============================] - 5s 787ms/step - loss: 0.0088 - val_loss: 114389893120.0000\n",
            "Epoch 6/100\n",
            "7/7 [==============================] - 8s 1s/step - loss: 0.0074 - val_loss: 114389901312.0000\n",
            "Epoch 7/100\n",
            "7/7 [==============================] - 5s 801ms/step - loss: 0.0068 - val_loss: 114389909504.0000\n",
            "Epoch 8/100\n",
            "7/7 [==============================] - 8s 1s/step - loss: 0.0076 - val_loss: 114389909504.0000\n",
            "Epoch 9/100\n",
            "7/7 [==============================] - 6s 865ms/step - loss: 0.0065 - val_loss: 114389934080.0000\n",
            "Epoch 10/100\n",
            "7/7 [==============================] - 7s 1s/step - loss: 0.0072 - val_loss: 114389934080.0000\n",
            "Epoch 11/100\n",
            "7/7 [==============================] - 6s 818ms/step - loss: 0.0058 - val_loss: 114389934080.0000\n",
            "Epoch 12/100\n",
            "7/7 [==============================] - 7s 1s/step - loss: 0.0061 - val_loss: 114389934080.0000\n",
            "Epoch 13/100\n",
            "7/7 [==============================] - 6s 887ms/step - loss: 0.0073 - val_loss: 114389934080.0000\n",
            "Epoch 14/100\n",
            "7/7 [==============================] - 8s 1s/step - loss: 0.0061 - val_loss: 114389934080.0000\n",
            "Epoch 15/100\n",
            "7/7 [==============================] - 6s 846ms/step - loss: 0.0059 - val_loss: 114389934080.0000\n",
            "Epoch 16/100\n",
            "7/7 [==============================] - 8s 1s/step - loss: 0.0058 - val_loss: 114389934080.0000\n",
            "Epoch 17/100\n",
            "7/7 [==============================] - 6s 822ms/step - loss: 0.0058 - val_loss: 114389917696.0000\n",
            "Epoch 18/100\n",
            "7/7 [==============================] - 7s 1s/step - loss: 0.0058 - val_loss: 114389934080.0000\n",
            "Epoch 19/100\n",
            "7/7 [==============================] - 6s 807ms/step - loss: 0.0055 - val_loss: 114389934080.0000\n",
            "Epoch 20/100\n",
            "7/7 [==============================] - 7s 1s/step - loss: 0.0058 - val_loss: 114389934080.0000\n",
            "Epoch 21/100\n",
            "7/7 [==============================] - 5s 797ms/step - loss: 0.0062 - val_loss: 114389934080.0000\n",
            "Epoch 22/100\n",
            "7/7 [==============================] - 7s 1s/step - loss: 0.0067 - val_loss: 114389934080.0000\n",
            "Epoch 23/100\n",
            "7/7 [==============================] - 6s 809ms/step - loss: 0.0060 - val_loss: 114389934080.0000\n",
            "Epoch 24/100\n",
            "7/7 [==============================] - 7s 1s/step - loss: 0.0062 - val_loss: 114389934080.0000\n",
            "Epoch 25/100\n",
            "7/7 [==============================] - 6s 802ms/step - loss: 0.0050 - val_loss: 114389934080.0000\n",
            "Epoch 26/100\n",
            "7/7 [==============================] - 6s 950ms/step - loss: 0.0048 - val_loss: 114389934080.0000\n",
            "Epoch 27/100\n",
            "7/7 [==============================] - 6s 834ms/step - loss: 0.0052 - val_loss: 114389942272.0000\n",
            "Epoch 28/100\n",
            "7/7 [==============================] - 6s 863ms/step - loss: 0.0054 - val_loss: 114389934080.0000\n",
            "Epoch 29/100\n",
            "7/7 [==============================] - 7s 913ms/step - loss: 0.0048 - val_loss: 114389942272.0000\n",
            "Epoch 30/100\n",
            "7/7 [==============================] - 5s 793ms/step - loss: 0.0046 - val_loss: 114389942272.0000\n",
            "Epoch 31/100\n",
            "7/7 [==============================] - 7s 969ms/step - loss: 0.0049 - val_loss: 114389934080.0000\n",
            "Epoch 32/100\n",
            "7/7 [==============================] - 5s 766ms/step - loss: 0.0047 - val_loss: 114389942272.0000\n",
            "Epoch 33/100\n",
            "7/7 [==============================] - 7s 1s/step - loss: 0.0042 - val_loss: 114389942272.0000\n",
            "Epoch 34/100\n",
            "7/7 [==============================] - 6s 810ms/step - loss: 0.0058 - val_loss: 114389950464.0000\n",
            "Epoch 35/100\n",
            "7/7 [==============================] - 8s 1s/step - loss: 0.0059 - val_loss: 114389966848.0000\n",
            "Epoch 36/100\n",
            "7/7 [==============================] - 6s 865ms/step - loss: 0.0067 - val_loss: 114389942272.0000\n",
            "Epoch 37/100\n",
            "7/7 [==============================] - 7s 1s/step - loss: 0.0054 - val_loss: 114389942272.0000\n",
            "Epoch 38/100\n",
            "7/7 [==============================] - 6s 812ms/step - loss: 0.0048 - val_loss: 114389942272.0000\n",
            "Epoch 39/100\n",
            "7/7 [==============================] - 8s 1s/step - loss: 0.0049 - val_loss: 114389966848.0000\n",
            "Epoch 40/100\n",
            "7/7 [==============================] - 6s 891ms/step - loss: 0.0056 - val_loss: 114389950464.0000\n",
            "Epoch 41/100\n",
            "7/7 [==============================] - 8s 1s/step - loss: 0.0045 - val_loss: 114389950464.0000\n",
            "Epoch 42/100\n",
            "7/7 [==============================] - 6s 807ms/step - loss: 0.0047 - val_loss: 114389950464.0000\n",
            "Epoch 43/100\n",
            "7/7 [==============================] - 8s 1s/step - loss: 0.0049 - val_loss: 114389950464.0000\n",
            "Epoch 44/100\n",
            "7/7 [==============================] - 6s 864ms/step - loss: 0.0047 - val_loss: 114389942272.0000\n",
            "Epoch 45/100\n",
            "7/7 [==============================] - 7s 1s/step - loss: 0.0043 - val_loss: 114389942272.0000\n",
            "Epoch 46/100\n",
            "7/7 [==============================] - 6s 808ms/step - loss: 0.0050 - val_loss: 114389934080.0000\n",
            "Epoch 47/100\n",
            "7/7 [==============================] - 7s 1s/step - loss: 0.0048 - val_loss: 114389942272.0000\n",
            "Epoch 48/100\n",
            "7/7 [==============================] - 6s 800ms/step - loss: 0.0041 - val_loss: 114389942272.0000\n",
            "Epoch 49/100\n",
            "7/7 [==============================] - 8s 1s/step - loss: 0.0045 - val_loss: 114389942272.0000\n",
            "Epoch 50/100\n",
            "7/7 [==============================] - 6s 856ms/step - loss: 0.0040 - val_loss: 114389934080.0000\n",
            "Epoch 51/100\n",
            "7/7 [==============================] - 7s 1s/step - loss: 0.0043 - val_loss: 114389942272.0000\n",
            "Epoch 52/100\n",
            "7/7 [==============================] - 6s 800ms/step - loss: 0.0039 - val_loss: 114389950464.0000\n",
            "Epoch 53/100\n",
            "7/7 [==============================] - 7s 1s/step - loss: 0.0045 - val_loss: 114389950464.0000\n",
            "Epoch 54/100\n",
            "7/7 [==============================] - 6s 857ms/step - loss: 0.0039 - val_loss: 114389950464.0000\n",
            "Epoch 55/100\n",
            "7/7 [==============================] - 7s 1s/step - loss: 0.0037 - val_loss: 114389950464.0000\n",
            "Epoch 56/100\n",
            "7/7 [==============================] - 6s 821ms/step - loss: 0.0034 - val_loss: 114389942272.0000\n",
            "Epoch 57/100\n",
            "7/7 [==============================] - 7s 1s/step - loss: 0.0037 - val_loss: 114389934080.0000\n",
            "Epoch 58/100\n",
            "7/7 [==============================] - 5s 774ms/step - loss: 0.0050 - val_loss: 114389950464.0000\n",
            "Epoch 59/100\n",
            "7/7 [==============================] - 6s 934ms/step - loss: 0.0048 - val_loss: 114389950464.0000\n",
            "Epoch 60/100\n",
            "7/7 [==============================] - 7s 865ms/step - loss: 0.0036 - val_loss: 114389950464.0000\n",
            "Epoch 61/100\n",
            "7/7 [==============================] - 7s 1s/step - loss: 0.0039 - val_loss: 114389950464.0000\n",
            "Epoch 62/100\n",
            "7/7 [==============================] - 6s 818ms/step - loss: 0.0043 - val_loss: 114389950464.0000\n",
            "Epoch 63/100\n",
            "7/7 [==============================] - 7s 1s/step - loss: 0.0040 - val_loss: 114389950464.0000\n",
            "Epoch 64/100\n",
            "7/7 [==============================] - 6s 815ms/step - loss: 0.0039 - val_loss: 114389942272.0000\n",
            "Epoch 65/100\n",
            "7/7 [==============================] - 7s 1s/step - loss: 0.0040 - val_loss: 114389950464.0000\n",
            "Epoch 66/100\n",
            "7/7 [==============================] - 6s 889ms/step - loss: 0.0038 - val_loss: 114389942272.0000\n",
            "Epoch 67/100\n",
            "7/7 [==============================] - 8s 1s/step - loss: 0.0043 - val_loss: 114389942272.0000\n",
            "Epoch 68/100\n",
            "7/7 [==============================] - 5s 781ms/step - loss: 0.0039 - val_loss: 114389950464.0000\n",
            "Epoch 69/100\n",
            "7/7 [==============================] - 8s 1s/step - loss: 0.0033 - val_loss: 114389950464.0000\n",
            "Epoch 70/100\n",
            "7/7 [==============================] - 6s 897ms/step - loss: 0.0036 - val_loss: 114389950464.0000\n",
            "Epoch 71/100\n",
            "7/7 [==============================] - 8s 1s/step - loss: 0.0033 - val_loss: 114389950464.0000\n",
            "Epoch 72/100\n",
            "7/7 [==============================] - 6s 801ms/step - loss: 0.0041 - val_loss: 114389942272.0000\n",
            "Epoch 73/100\n",
            "7/7 [==============================] - 8s 1s/step - loss: 0.0040 - val_loss: 114389950464.0000\n",
            "Epoch 74/100\n",
            "7/7 [==============================] - 6s 881ms/step - loss: 0.0035 - val_loss: 114389950464.0000\n",
            "Epoch 75/100\n",
            "7/7 [==============================] - 8s 1s/step - loss: 0.0032 - val_loss: 114389950464.0000\n",
            "Epoch 76/100\n",
            "7/7 [==============================] - 6s 818ms/step - loss: 0.0035 - val_loss: 114389950464.0000\n",
            "Epoch 77/100\n",
            "7/7 [==============================] - 7s 1s/step - loss: 0.0035 - val_loss: 114389942272.0000\n",
            "Epoch 78/100\n",
            "7/7 [==============================] - 6s 810ms/step - loss: 0.0050 - val_loss: 114389950464.0000\n",
            "Epoch 79/100\n",
            "7/7 [==============================] - 7s 1s/step - loss: 0.0051 - val_loss: 114389950464.0000\n",
            "Epoch 80/100\n",
            "7/7 [==============================] - 6s 819ms/step - loss: 0.0045 - val_loss: 114389942272.0000\n",
            "Epoch 81/100\n",
            "7/7 [==============================] - 8s 1s/step - loss: 0.0035 - val_loss: 114389950464.0000\n",
            "Epoch 82/100\n",
            "7/7 [==============================] - 6s 815ms/step - loss: 0.0040 - val_loss: 114389950464.0000\n",
            "Epoch 83/100\n",
            "7/7 [==============================] - 7s 1s/step - loss: 0.0036 - val_loss: 114389950464.0000\n",
            "Epoch 84/100\n",
            "7/7 [==============================] - 6s 825ms/step - loss: 0.0038 - val_loss: 114389942272.0000\n",
            "Epoch 85/100\n",
            "7/7 [==============================] - 8s 1s/step - loss: 0.0032 - val_loss: 114389950464.0000\n",
            "Epoch 86/100\n",
            "7/7 [==============================] - 6s 882ms/step - loss: 0.0036 - val_loss: 114389950464.0000\n",
            "Epoch 87/100\n",
            "7/7 [==============================] - 8s 1s/step - loss: 0.0033 - val_loss: 114389942272.0000\n",
            "Epoch 88/100\n",
            "7/7 [==============================] - 6s 893ms/step - loss: 0.0032 - val_loss: 114389942272.0000\n",
            "Epoch 89/100\n",
            "7/7 [==============================] - 8s 1s/step - loss: 0.0030 - val_loss: 114389942272.0000\n",
            "Epoch 90/100\n",
            "7/7 [==============================] - 6s 880ms/step - loss: 0.0034 - val_loss: 114389942272.0000\n",
            "Epoch 91/100\n",
            "7/7 [==============================] - 8s 1s/step - loss: 0.0037 - val_loss: 114389942272.0000\n",
            "Epoch 92/100\n",
            "7/7 [==============================] - 6s 900ms/step - loss: 0.0035 - val_loss: 114389934080.0000\n",
            "Epoch 93/100\n",
            "7/7 [==============================] - 8s 1s/step - loss: 0.0044 - val_loss: 114389934080.0000\n",
            "Epoch 94/100\n",
            "7/7 [==============================] - 6s 891ms/step - loss: 0.0039 - val_loss: 114389942272.0000\n",
            "Epoch 95/100\n",
            "7/7 [==============================] - 7s 1s/step - loss: 0.0033 - val_loss: 114389934080.0000\n",
            "Epoch 96/100\n",
            "7/7 [==============================] - 6s 807ms/step - loss: 0.0031 - val_loss: 114389942272.0000\n",
            "Epoch 97/100\n",
            "7/7 [==============================] - 8s 1s/step - loss: 0.0030 - val_loss: 114389942272.0000\n",
            "Epoch 98/100\n",
            "7/7 [==============================] - 6s 874ms/step - loss: 0.0036 - val_loss: 114389942272.0000\n",
            "Epoch 99/100\n",
            "7/7 [==============================] - 8s 1s/step - loss: 0.0031 - val_loss: 114389942272.0000\n",
            "Epoch 100/100\n",
            "7/7 [==============================] - 6s 808ms/step - loss: 0.0029 - val_loss: 114389942272.0000\n"
          ]
        },
        {
          "output_type": "execute_result",
          "data": {
            "text/plain": [
              "<keras.callbacks.History at 0x7f316dc73f70>"
            ]
          },
          "metadata": {},
          "execution_count": 149
        }
      ]
    },
    {
      "cell_type": "markdown",
      "source": [
        "last 100 dAYS  of data training data append to data testing\n",
        "-> 100 days before 2022-05-02\n"
      ],
      "metadata": {
        "id": "ZESsT1HSR9-G"
      }
    },
    {
      "cell_type": "markdown",
      "source": [],
      "metadata": {
        "id": "WBdaORKAkNv9"
      }
    },
    {
      "cell_type": "markdown",
      "source": [
        "Making predictions\n"
      ],
      "metadata": {
        "id": "RXHCZjDkWJ6g"
      }
    },
    {
      "cell_type": "code",
      "source": [
        "y_pred.shape"
      ],
      "metadata": {
        "colab": {
          "base_uri": "https://localhost:8080/"
        },
        "id": "iQJ8dCeKUXq_",
        "outputId": "31ae5daf-bd46-462a-e65d-196a1fe9da0a"
      },
      "execution_count": 151,
      "outputs": [
        {
          "output_type": "execute_result",
          "data": {
            "text/plain": [
              "(222, 1)"
            ]
          },
          "metadata": {},
          "execution_count": 151
        }
      ]
    },
    {
      "cell_type": "markdown",
      "source": [
        "Scale UP the data to "
      ],
      "metadata": {
        "id": "2Fl9tWxUWfM-"
      }
    },
    {
      "cell_type": "code",
      "source": [
        "scaler.scale_ #factor by which all the values were scaled down"
      ],
      "metadata": {
        "colab": {
          "base_uri": "https://localhost:8080/"
        },
        "id": "HGvOVffvUXoU",
        "outputId": "67370163-84c0-4cb5-dfc5-2ac36acf8bf4"
      },
      "execution_count": 152,
      "outputs": [
        {
          "output_type": "execute_result",
          "data": {
            "text/plain": [
              "array([0.00096423])"
            ]
          },
          "metadata": {},
          "execution_count": 152
        }
      ]
    },
    {
      "cell_type": "markdown",
      "source": [],
      "metadata": {
        "id": "tMArSQ_LXDgB"
      }
    },
    {
      "cell_type": "code",
      "source": [
        "scale_factor = 1 /0.00096423\n",
        "y_pred = y_pred  * scale_factor\n",
        "y_test = y_test * scale_factor\n"
      ],
      "metadata": {
        "id": "cDOc1SLgUXmD"
      },
      "execution_count": 153,
      "outputs": []
    },
    {
      "cell_type": "code",
      "source": [
        "y_pred"
      ],
      "metadata": {
        "id": "jpgCedQloLhy"
      },
      "execution_count": null,
      "outputs": []
    },
    {
      "cell_type": "markdown",
      "source": [
        "Ploting the predicted and Orignal values"
      ],
      "metadata": {
        "id": "ktxwWUfmXN5A"
      }
    },
    {
      "cell_type": "code",
      "source": [
        "plt.figure(figsize=(12,6))\n",
        "plt.plot(y_test , 'b', label = 'Orignal Price')\n",
        "plt.plot(y_pred , 'r' , label = 'Predicted price')\n",
        "plt.xlabel('Time ->')\n",
        "plt.ylabel('Price RS ->')\n",
        "plt.legend()\n",
        "plt.show()"
      ],
      "metadata": {
        "colab": {
          "base_uri": "https://localhost:8080/",
          "height": 400
        },
        "id": "uyc3ko7WXLAs",
        "outputId": "40398f5e-68f3-4d54-960d-dab952821f99"
      },
      "execution_count": 155,
      "outputs": [
        {
          "output_type": "display_data",
          "data": {
            "text/plain": [
              "<Figure size 864x432 with 1 Axes>"
            ],
            "image/png": "[encoded data removed]"
          },
          "metadata": {
            "needs_background": "light"
          }
        }
      ]
    },
    {
      "cell_type": "code",
      "source": [],
      "metadata": {
        "id": "sjyo_KXdXK9h"
      },
      "execution_count": null,
      "outputs": []
    },
    {
      "cell_type": "code",
      "source": [],
      "metadata": {
        "id": "44j2H6ODXK68"
      },
      "execution_count": null,
      "outputs": []
    },
    {
      "cell_type": "code",
      "source": [],
      "metadata": {
        "id": "yhvnyemwaPgJ"
      },
      "execution_count": null,
      "outputs": []
    },
    {
      "cell_type": "code",
      "source": [],
      "metadata": {
        "id": "vOL2kAYDaPdU"
      },
      "execution_count": null,
      "outputs": []
    },
    {
      "cell_type": "code",
      "source": [],
      "metadata": {
        "id": "X43Vnj5aaPbE"
      },
      "execution_count": null,
      "outputs": []
    },
    {
      "cell_type": "code",
      "source": [],
      "metadata": {
        "id": "KWBx75LaaPY1"
      },
      "execution_count": null,
      "outputs": []
    }
  ],
  "metadata": {
    "colab": {
      "provenance": []
    },
    "kernelspec": {
      "display_name": "Python 3",
      "name": "python3"
    },
    "language_info": {
      "name": "python"
    }
  },
  "nbformat": 4,
  "nbformat_minor": 0
}